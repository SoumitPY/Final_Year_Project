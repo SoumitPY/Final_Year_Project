{
  "nbformat": 4,
  "nbformat_minor": 0,
  "metadata": {
    "colab": {
      "name": "FY_project.ipynb",
      "provenance": [],
      "collapsed_sections": [],
      "include_colab_link": true
    },
    "language_info": {
      "codemirror_mode": {
        "name": "ipython",
        "version": 3
      },
      "file_extension": ".py",
      "mimetype": "text/x-python",
      "name": "python",
      "nbconvert_exporter": "python",
      "pygments_lexer": "ipython3",
      "version": "3.7.1"
    },
    "kernelspec": {
      "name": "python3",
      "display_name": "Python 3"
    },
    "accelerator": "GPU"
  },
  "cells": [
    {
      "cell_type": "markdown",
      "metadata": {
        "id": "view-in-github",
        "colab_type": "text"
      },
      "source": [
        "<a href=\"https://colab.research.google.com/github/SoumitPY/Final_Year_Project/blob/master/FY_project.ipynb\" target=\"_parent\"><img src=\"https://colab.research.google.com/assets/colab-badge.svg\" alt=\"Open In Colab\"/></a>"
      ]
    },
    {
      "cell_type": "code",
      "metadata": {
        "id": "hdajDG1nAFC_",
        "colab_type": "code",
        "outputId": "ae86d234-9bc5-413a-f40f-28313d15c1e6",
        "colab": {
          "base_uri": "https://localhost:8080/",
          "height": 35
        }
      },
      "source": [
        "import glob\n",
        "import os\n",
        "import keras\n",
        "from sklearn import preprocessing\n",
        "from keras.utils import to_categorical\n",
        "from sklearn.model_selection import train_test_split\n",
        "from keras.models import Sequential\n",
        "from keras.layers import Input, Dense, Activation, ZeroPadding2D, BatchNormalization, Flatten, Conv2D\n",
        "from keras.layers import AveragePooling2D, MaxPooling2D, Dropout, GlobalMaxPooling2D, GlobalAveragePooling2D\n",
        "import pandas as pd\n",
        "import numpy as np\n",
        "import h5py\n",
        "import cv2\n",
        "import matplotlib.pyplot as plt"
      ],
      "execution_count": 0,
      "outputs": [
        {
          "output_type": "stream",
          "text": [
            "Using TensorFlow backend.\n"
          ],
          "name": "stderr"
        }
      ]
    },
    {
      "cell_type": "code",
      "metadata": {
        "id": "oynBWpw1DBQl",
        "colab_type": "code",
        "outputId": "62dada2f-d57a-421e-aa81-c56a2d2825f7",
        "colab": {
          "base_uri": "https://localhost:8080/",
          "height": 287
        }
      },
      "source": [
        "im_path = '/content/drive/My Drive/training-a/a00141.png'\n",
        "img = cv2.imread(im_path,cv2.IMREAD_GRAYSCALE)\n",
        "img = cv2.resize(img, (60, 60), interpolation=cv2.INTER_AREA)\n",
        "#img = img / 255\n",
        "#img = np.expand_dims(img,axis=2)\n",
        "#print(img.shape)\n",
        "#img = cv2.cvtColor(img, cv2.COLOR_BGR2RGB)\n",
        "plt.imshow(img,cmap='gray')"
      ],
      "execution_count": 0,
      "outputs": [
        {
          "output_type": "execute_result",
          "data": {
            "text/plain": [
              "<matplotlib.image.AxesImage at 0x7f83c2f875f8>"
            ]
          },
          "metadata": {
            "tags": []
          },
          "execution_count": 30
        },
        {
          "output_type": "display_data",
          "data": {
            "image/png": "[encoded data removed]",
            "text/plain": [
              "<Figure size 432x288 with 1 Axes>"
            ]
          },
          "metadata": {
            "tags": []
          }
        }
      ]
    },
    {
      "cell_type": "code",
      "metadata": {
        "id": "tAvxum3yGwTR",
        "colab_type": "code",
        "colab": {}
      },
      "source": [
        "# Run this cell to mount your Google Drive.\n",
        "from google.colab import drive\n",
        "drive.mount('/content/drive')"
      ],
      "execution_count": 0,
      "outputs": []
    },
    {
      "cell_type": "code",
      "metadata": {
        "colab_type": "code",
        "id": "5ZuoZVruFTfB",
        "colab": {}
      },
      "source": [
        "images_train_path = '/content/drive/My Drive/training-a/*.png'\n",
        "hdf5_path = '/content/drive/My Drive/training-a.h5' \n",
        "train_addrs = glob.glob(images_train_path)"
      ],
      "execution_count": 0,
      "outputs": []
    },
    {
      "cell_type": "code",
      "metadata": {
        "colab_type": "code",
        "id": "Bbu2u_1dFesu",
        "colab": {}
      },
      "source": [
        "def get_key(path):\n",
        "    # seperates the key of an image from the filepath\n",
        "    key=path.split(sep=os.sep)[-1]\n",
        "    return key\n",
        "df = pd.read_csv('/content/drive/My Drive/training-a.csv')\n",
        "df = df.set_index('filename')\n",
        "y_label=[df.loc[get_key(path)]['digit'] for path in  train_addrs]"
      ],
      "execution_count": 0,
      "outputs": []
    },
    {
      "cell_type": "code",
      "metadata": {
        "colab_type": "code",
        "id": "mvUijDPTFTNJ",
        "colab": {}
      },
      "source": [
        "#data_order = 'tf'\n",
        "hdf5_file = h5py.File(hdf5_path, mode='w')\n",
        "hdf5_file.create_dataset(\"train_labels\",(len(train_addrs),), np.int8)\n",
        "hdf5_file[\"train_labels\"][...] = y_label"
      ],
      "execution_count": 0,
      "outputs": []
    },
    {
      "cell_type": "code",
      "metadata": {
        "id": "k-Dm3O3pB1zN",
        "colab_type": "code",
        "outputId": "e621e326-3db0-4154-bd71-d8c8fb744707",
        "colab": {
          "base_uri": "https://localhost:8080/",
          "height": 35
        }
      },
      "source": [
        "train_shape = (len(train_addrs), 60, 60, 1)\n",
        "hdf5_file.create_dataset(\"train_img\", train_shape, np.int8)"
      ],
      "execution_count": 0,
      "outputs": [
        {
          "output_type": "execute_result",
          "data": {
            "text/plain": [
              "<HDF5 dataset \"train_img\": shape (19702, 60, 60, 1), type \"|i1\">"
            ]
          },
          "metadata": {
            "tags": []
          },
          "execution_count": 44
        }
      ]
    },
    {
      "cell_type": "code",
      "metadata": {
        "colab_type": "code",
        "id": "uRGM7ZTBFTGX",
        "colab": {}
      },
      "source": [
        "for i in range(len(train_addrs)):\n",
        "    # print how many images are saved every 1000 images\n",
        "    if i % 1000 == 0 and i > 1:\n",
        "        print('Train data: {}/{}'.format(i, len(train_addrs)))\n",
        "    # read an image and resize to (60, 60)\n",
        "    addr = train_addrs[i]\n",
        "    img = cv2.imread(addr,cv2.IMREAD_GRAYSCALE)\n",
        "    img = cv2.resize(img, (60, 60), interpolation=cv2.INTER_AREA)\n",
        "    img = np.expand_dims(img,axis=2)\n",
        "    hdf5_file[\"train_img\"][i, ...] = img[None]\n",
        "hdf5_file.close()"
      ],
      "execution_count": 0,
      "outputs": []
    },
    {
      "cell_type": "code",
      "metadata": {
        "colab_type": "code",
        "id": "v65gUHDVFTAU",
        "colab": {}
      },
      "source": [
        "def load_dataset():\n",
        "  train_dataset = h5py.File('/content/drive/My Drive/training-a.h5',\"r\")\n",
        "  train_set_x_orig = np.array(train_dataset[\"train_img\"][:])\n",
        "  train_set_y_orig = np.array(train_dataset[\"train_labels\"][:])\n",
        "  return train_set_x_orig, train_set_y_orig"
      ],
      "execution_count": 0,
      "outputs": []
    },
    {
      "cell_type": "code",
      "metadata": {
        "id": "BekQZ9W7-2M6",
        "colab_type": "code",
        "colab": {}
      },
      "source": [
        "X_train_orig, Y_train_orig = load_dataset()"
      ],
      "execution_count": 0,
      "outputs": []
    },
    {
      "cell_type": "code",
      "metadata": {
        "id": "wOkls1BgKJGg",
        "colab_type": "code",
        "colab": {}
      },
      "source": [
        "Y_train = to_categorical(Y_train_orig)"
      ],
      "execution_count": 0,
      "outputs": []
    },
    {
      "cell_type": "code",
      "metadata": {
        "id": "as98CHkvN9Ta",
        "colab_type": "code",
        "colab": {}
      },
      "source": [
        "X_Train, X_Test, Y_Train, Y_Test = train_test_split(X_train,Y_train,test_size=0.01)"
      ],
      "execution_count": 0,
      "outputs": []
    },
    {
      "cell_type": "code",
      "metadata": {
        "id": "llJVjs_kMBpW",
        "colab_type": "code",
        "colab": {}
      },
      "source": [
        "input_shape = (60,60,1)\n",
        "model = Sequential()\n",
        "model.add(Conv2D(32, kernel_size=(3, 3),\n",
        "                 activation='relu',\n",
        "                 input_shape=input_shape))\n",
        "model.add(Conv2D(64, (3, 3), activation='relu'))\n",
        "model.add(MaxPooling2D(pool_size=(2, 2)))\n",
        "model.add(Dropout(0.25))\n",
        "model.add(Flatten())\n",
        "model.add(Dense(128, activation='relu'))\n",
        "model.add(Dropout(0.5))\n",
        "model.add(Dense(10, activation='softmax'))\n",
        "model.compile(optimizer='adam',loss='categorical_crossentropy',metrics=['accuracy'])\n",
        "model.fit(X_Train,Y_Train,epochs=10,batch_size=128)"
      ],
      "execution_count": 0,
      "outputs": []
    }
  ]
}