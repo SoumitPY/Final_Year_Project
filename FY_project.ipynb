{
  "nbformat": 4,
  "nbformat_minor": 0,
  "metadata": {
    "colab": {
      "name": "FY_project.ipynb",
      "version": "0.3.2",
      "provenance": [],
      "collapsed_sections": []
    },
    "language_info": {
      "codemirror_mode": {
        "name": "ipython",
        "version": 3
      },
      "file_extension": ".py",
      "mimetype": "text/x-python",
      "name": "python",
      "nbconvert_exporter": "python",
      "pygments_lexer": "ipython3",
      "version": "3.7.1"
    },
    "kernelspec": {
      "name": "python3",
      "display_name": "Python 3"
    },
    "accelerator": "GPU"
  },
  "cells": [
    {
      "cell_type": "code",
      "metadata": {
        "id": "hdajDG1nAFC_",
        "colab_type": "code",
        "colab": {}
      },
      "source": [
        "import glob\n",
        "import os\n",
        "import pandas as pd\n",
        "import numpy as np\n",
        "import h5py\n",
        "import cv2\n",
        "import matplotlib.pyplot as plt"
      ],
      "execution_count": 0,
      "outputs": []
    },
    {
      "cell_type": "code",
      "metadata": {
        "id": "tAvxum3yGwTR",
        "colab_type": "code",
        "colab": {}
      },
      "source": [
        "# Run this cell to mount your Google Drive.\n",
        "from google.colab import drive\n",
        "drive.mount('/content/drive')"
      ],
      "execution_count": 0,
      "outputs": []
    },
    {
      "cell_type": "code",
      "metadata": {
        "colab_type": "code",
        "id": "5ZuoZVruFTfB",
        "outputId": "51f55868-7986-46fd-f485-8064b126e4f7",
        "colab": {
          "base_uri": "https://localhost:8080/",
          "height": 35
        }
      },
      "source": [
        "images_train_path = '/content/drive/My Drive/training-a/*.png'\n",
        "hdf5_path = '/content/drive/My Drive/training-a.h5' \n",
        "train_addrs = glob.glob(images_train_path)\n",
        "print(train_addrs[23])"
      ],
      "execution_count": 0,
      "outputs": [
        {
          "output_type": "stream",
          "text": [
            "/content/drive/My Drive/training-a/a18725.png\n"
          ],
          "name": "stdout"
        }
      ]
    },
    {
      "cell_type": "code",
      "metadata": {
        "colab_type": "code",
        "id": "Bbu2u_1dFesu",
        "colab": {}
      },
      "source": [
        "def get_key(path):\n",
        "    # seperates the key of an image from the filepath\n",
        "    key=path.split(sep=os.sep)[-1]\n",
        "    return key\n",
        "df = pd.read_csv('/content/drive/My Drive/training-a.csv')\n",
        "df = df.set_index('filename')\n",
        "y_label=[df.loc[get_key(path)]['digit'] for path in  train_addrs]"
      ],
      "execution_count": 0,
      "outputs": []
    },
    {
      "cell_type": "code",
      "metadata": {
        "colab_type": "code",
        "id": "mvUijDPTFTNJ",
        "colab": {}
      },
      "source": [
        "#data_order = 'tf'\n",
        "train_shape = (len(train_addrs), 224, 224, 3)\n",
        "hdf5_file = h5py.File(hdf5_path, mode='w')\n",
        "hdf5_file.create_dataset(\"train_img\", train_shape, np.int8)\n",
        "hdf5_file.create_dataset(\"train_labels\", (len(train_addrs),), np.int8)\n",
        "hdf5_file[\"train_labels\"][...] = train_labels"
      ],
      "execution_count": 0,
      "outputs": []
    },
    {
      "cell_type": "code",
      "metadata": {
        "colab_type": "code",
        "id": "uRGM7ZTBFTGX",
        "colab": {}
      },
      "source": [
        "for i in range(len(train_addrs)):\n",
        "    # print how many images are saved every 1000 images\n",
        "    if i % 1000 == 0 and i > 1:\n",
        "        print('Train data: {}/{}'.format(i, len(train_addrs)))\n",
        "    # read an image and resize to (224, 224)\n",
        "    # cv2 load images as BGR, convert it to RGB\n",
        "    addr = train_addrs[i]\n",
        "    img = cv2.imread(addr)\n",
        "    img = cv2.resize(img, (224, 224), interpolation=cv2.INTER_CUBIC)\n",
        "    img = cv2.cvtColor(img, cv2.COLOR_BGR2RGB)\n",
        "    hdf5_file[\"train_img\"][i, ...] = img[None]\n",
        "hdf5_file.close()"
      ],
      "execution_count": 0,
      "outputs": []
    },
    {
      "cell_type": "code",
      "metadata": {
        "colab_type": "code",
        "id": "v65gUHDVFTAU",
        "colab": {}
      },
      "source": [
        "def load_dataset():\n",
        "  train_dataset = h5py.File('/content/drive/My Drive/training-a.h5',\"r\")\n",
        "  train_set_x_orig = np.array(train_dataset[\"train_img\"][:]) # train set features\n",
        "  return train_set_x_orig"
      ],
      "execution_count": 0,
      "outputs": []
    },
    {
      "cell_type": "code",
      "metadata": {
        "colab_type": "code",
        "id": "xYs6j_0iFS6q",
        "colab": {}
      },
      "source": [
        "X_train_orig = load_dataset()"
      ],
      "execution_count": 0,
      "outputs": []
    },
    {
      "cell_type": "code",
      "metadata": {
        "colab_type": "code",
        "id": "J4YRKG9nFSt3",
        "outputId": "bd58ec3c-36a6-4824-e5d8-35f93f1ce5e2",
        "colab": {
          "base_uri": "https://localhost:8080/",
          "height": 287
        }
      },
      "source": [
        "plt.imshow(X_train_orig[12222])\n",
        "print(y_label[12222])\n"
      ],
      "execution_count": 0,
      "outputs": [
        {
          "output_type": "stream",
          "text": [
            "9\n"
          ],
          "name": "stdout"
        },
        {
          "output_type": "display_data",
          "data": {
            "image/png": "[encoded data removed]",
            "text/plain": [
              "<Figure size 432x288 with 1 Axes>"
            ]
          },
          "metadata": {
            "tags": []
          }
        }
      ]
    }
  ]
}